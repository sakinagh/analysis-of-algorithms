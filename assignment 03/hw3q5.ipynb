{
  "nbformat": 4,
  "nbformat_minor": 0,
  "metadata": {
    "colab": {
      "provenance": []
    },
    "kernelspec": {
      "name": "python3",
      "display_name": "Python 3"
    },
    "language_info": {
      "name": "python"
    }
  },
  "cells": [
    {
      "cell_type": "code",
      "execution_count": null,
      "metadata": {
        "id": "nmrwbMzAHh98"
      },
      "outputs": [],
      "source": [
        "import heapq"
      ]
    },
    {
      "cell_type": "code",
      "source": [
        "def top_k_tallest_trees(heights, k):\n",
        "    unique_h = set(heights)\n",
        "\n",
        "    max_heap = []\n",
        "\n",
        "    for height in unique_h:\n",
        "        heapq.heappush(max_heap, -height)\n",
        "\n",
        "    # pop the k largest elements and negate them back to original values\n",
        "    heap = [-heapq.heappop(max_heap) for _ in range(min(k, len(unique_h)))]\n",
        "\n",
        "    return heap"
      ],
      "metadata": {
        "id": "36ZbdPUyJyli"
      },
      "execution_count": null,
      "outputs": []
    },
    {
      "cell_type": "code",
      "source": [
        "# Example 1:\n",
        "heights = [120, 130, 150, 160, 130, 140, 150, 170]\n",
        "k = 3\n",
        "top_k_tallest_trees(heights, k) # Output: [170, 160, 150]"
      ],
      "metadata": {
        "colab": {
          "base_uri": "https://localhost:8080/"
        },
        "id": "XsyWjGi0IBgF",
        "outputId": "5fe30c25-4985-4db3-e87a-25e2c0426ddb"
      },
      "execution_count": null,
      "outputs": [
        {
          "output_type": "execute_result",
          "data": {
            "text/plain": [
              "[170, 160, 150]"
            ]
          },
          "metadata": {},
          "execution_count": 40
        }
      ]
    },
    {
      "cell_type": "code",
      "source": [
        "# Example 2:\n",
        "heights = [120, 130, 120, 130]\n",
        "k = 5\n",
        "top_k_tallest_trees(heights, k) # Output: [130, 120]"
      ],
      "metadata": {
        "colab": {
          "base_uri": "https://localhost:8080/"
        },
        "id": "CAS-cETIIGET",
        "outputId": "3a600eb8-d139-4239-f195-4d5764cc8777"
      },
      "execution_count": null,
      "outputs": [
        {
          "output_type": "execute_result",
          "data": {
            "text/plain": [
              "[130, 120]"
            ]
          },
          "metadata": {},
          "execution_count": 43
        }
      ]
    }
  ]
}