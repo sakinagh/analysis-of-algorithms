{
  "nbformat": 4,
  "nbformat_minor": 0,
  "metadata": {
    "colab": {
      "provenance": []
    },
    "kernelspec": {
      "name": "python3",
      "display_name": "Python 3"
    },
    "language_info": {
      "name": "python"
    }
  },
  "cells": [
    {
      "cell_type": "code",
      "execution_count": null,
      "metadata": {
        "id": "MOXUSdEUHr0M"
      },
      "outputs": [],
      "source": [
        "import heapq"
      ]
    },
    {
      "cell_type": "code",
      "source": [
        "class EmergencyRoom:\n",
        "    def __init__(self):\n",
        "        self.pq = []\n",
        "        self.count = 0\n",
        "\n",
        "    def add_patient(self, name: str, severity: int):\n",
        "        heapq.heappush(self.pq, (-severity, self.count, name))\n",
        "        self.count += 1  # order of arrival is tracked\n",
        "\n",
        "    def treat_next(self) -> str:\n",
        "        if self.is_empty():\n",
        "            return None\n",
        "        return heapq.heappop(self.pq)[2]\n",
        "\n",
        "    def is_empty(self) -> bool:\n",
        "        return len(self.pq) == 0\n"
      ],
      "metadata": {
        "id": "4l-koeFfK-hV"
      },
      "execution_count": null,
      "outputs": []
    },
    {
      "cell_type": "code",
      "source": [
        "# Example interaction\n",
        "er = EmergencyRoom()\n",
        "er.add_patient(\"Alice\", 5)\n",
        "er.add_patient(\"Bob\", 8)\n",
        "er.add_patient(\"Charlie\", 8)\n",
        "er.add_patient(\"David\", 3)\n",
        "print(er.treat_next()) # Output: \"Bob\" (highest severity)\n",
        "print(er.treat_next()) # Output: \"Charlie\" (same severity as Bob, but arrived late\n",
        "print(er.is_empty()) # Output: False\n",
        "print(er.treat_next()) # Output: \"Alice\"\n",
        "print(er.treat_next()) # Output: \"David\"\n",
        "print(er.is_empty()) # Output: True"
      ],
      "metadata": {
        "colab": {
          "base_uri": "https://localhost:8080/"
        },
        "id": "OTaQ7K3mLat-",
        "outputId": "3d862b30-0339-484a-d19b-4f99af7afb7a"
      },
      "execution_count": null,
      "outputs": [
        {
          "output_type": "stream",
          "name": "stdout",
          "text": [
            "Bob\n",
            "Charlie\n",
            "False\n",
            "Alice\n",
            "David\n",
            "True\n"
          ]
        }
      ]
    }
  ]
}